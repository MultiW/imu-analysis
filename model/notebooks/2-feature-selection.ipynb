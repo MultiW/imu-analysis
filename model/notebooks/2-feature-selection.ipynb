{
 "cells": [
  {
   "cell_type": "markdown",
   "metadata": {},
   "source": [
    "# Feature Selection\n",
    "Generated features and labels from the cleaned data. The data should be ready to use to train an ML model."
   ]
  },
  {
   "cell_type": "code",
   "execution_count": 1,
   "metadata": {},
   "outputs": [],
   "source": [
    "%load_ext autoreload\n",
    "%autoreload 2\n",
    "%matplotlib notebook\n",
    "\n",
    "import numpy as np\n",
    "\n",
    "from sklearn.model_selection import cross_val_score\n",
    "from sklearn.model_selection import RepeatedStratifiedKFold\n",
    "from sklearn.ensemble import GradientBoostingClassifier\n",
    "from matplotlib.lines import Line2D\n",
    "import joblib\n",
    "\n",
    "from src.data.labels_util import load_labels, LabelCol, get_labels_file, load_clean_labels, get_workouts\n",
    "from src.data.imu_util import (\n",
    "    get_sensor_file, ImuCol, load_imu_data, Sensor, fix_epoch, resample_uniformly, time_to_row_range, get_data_chunk,\n",
    "    normalize_with_bounds, data_to_features, list_imu_abspaths, clean_imu_data\n",
    ")\n",
    "from src.data.util import find_nearest, find_nearest_index, shift, low_pass_filter, add_col\n",
    "from src.data.workout import Activity, Workout\n",
    "from src.data.data import DataState\n",
    "from src.data.make_dataset import main as make_dataset\n",
    "from src.data.make_labels import main as make_labels\n",
    "from src.visualization.visualize import multiplot\n",
    "\n",
    "# import data types\n",
    "from pandas import DataFrame\n",
    "from numpy import ndarray\n",
    "from typing import List, Tuple, Optional"
   ]
  },
  {
   "cell_type": "markdown",
   "metadata": {},
   "source": [
    "## Generate Features\n",
    "Process the training data."
   ]
  },
  {
   "cell_type": "code",
   "execution_count": null,
   "metadata": {},
   "outputs": [],
   "source": []
  }
 ],
 "metadata": {
  "kernelspec": {
   "display_name": "Python (model-env)",
   "language": "python",
   "name": "model-env"
  },
  "language_info": {
   "codemirror_mode": {
    "name": "ipython",
    "version": 3
   },
   "file_extension": ".py",
   "mimetype": "text/x-python",
   "name": "python",
   "nbconvert_exporter": "python",
   "pygments_lexer": "ipython3",
   "version": "3.8.5"
  }
 },
 "nbformat": 4,
 "nbformat_minor": 4
}
