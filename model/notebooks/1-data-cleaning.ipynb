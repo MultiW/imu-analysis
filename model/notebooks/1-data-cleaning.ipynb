{
 "cells": [
  {
   "cell_type": "markdown",
   "metadata": {},
   "source": [
    "# Data Cleaning\n",
    "\n",
    "For each IMU file, clean the IMU data, adjust the labels, and output these as CSV files."
   ]
  },
  {
   "cell_type": "code",
   "execution_count": 1,
   "metadata": {},
   "outputs": [],
   "source": [
    "%load_ext autoreload\n",
    "%autoreload 2\n",
    "%matplotlib notebook\n",
    "\n",
    "import pathlib\n",
    "import matplotlib.pyplot as pyplot\n",
    "import pandas as pd\n",
    "\n",
    "import numpy as np\n",
    "from numpy import mean\n",
    "from numpy import std\n",
    "\n",
    "from scipy import signal\n",
    "from scipy.fft import fft, fftfreq, rfft, rfftfreq\n",
    "\n",
    "from sklearn.model_selection import cross_val_score\n",
    "from sklearn.model_selection import RepeatedStratifiedKFold\n",
    "from sklearn.ensemble import GradientBoostingClassifier\n",
    "import joblib\n",
    "\n",
    "from data_processing.labels_util import get_labels_data, LabelCol, get_workouts_row_bounds, get_workouts_epoch_bounds, get_workouts_sensor\n",
    "from data_processing.imu_util import (\n",
    "    get_sensor_file, ImuCol, load_imu_data, Sensor, fix_epoch, resample_uniformly, time_to_row_range, get_data_chunk,\n",
    "    normalize_with_bounds, data_to_features, list_imu_abspaths, clean_imu_data\n",
    ")\n",
    "from data_processing.data_util import find_nearest, find_nearest_index, shift, low_pass_filter, add_col\n",
    "from data_processing.enums import Activity\n",
    "from visualization.visualize import multiplot\n",
    "from config import CLEAN_DIR, CLEAN_SUFFIX\n",
    "\n",
    "# import data types\n",
    "from pandas import DataFrame\n",
    "from numpy import ndarray\n",
    "from typing import List, Tuple, Optional"
   ]
  },
  {
   "cell_type": "markdown",
   "metadata": {},
   "source": [
    "## Clean IMU data"
   ]
  },
  {
   "cell_type": "code",
   "execution_count": 2,
   "metadata": {},
   "outputs": [
    {
     "name": "stdout",
     "output_type": "stream",
     "text": [
      "Cleaning file '10L_2020-08-13T09.44.56.359_D592640E9A77_Accelerometer.csv'...\n"
     ]
    }
   ],
   "source": [
    "sensor_files = list_imu_abspaths(sensor_type=Sensor.Accelerometer)\n",
    "\n",
    "for file in sensor_files:\n",
    "    print(\"Cleaning file '%s'...\" % file.name)\n",
    "    \n",
    "    raw_imu = load_imu_data(file)\n",
    "    \n",
    "    clean_imu = clean_imu_data(raw_imu)\n",
    "\n",
    "    np.savetxt(CLEAN_DIR / (\"%s%s.csv\" % (file.stem, CLEAN_SUFFIX)), clean_imu, delimiter=\",\")"
   ]
  },
  {
   "cell_type": "markdown",
   "metadata": {},
   "source": []
  },
  {
   "cell_type": "code",
   "execution_count": null,
   "metadata": {},
   "outputs": [],
   "source": []
  }
 ],
 "metadata": {
  "kernelspec": {
   "display_name": "Python [conda env:model-env] *",
   "language": "python",
   "name": "conda-env-model-env-py"
  },
  "language_info": {
   "codemirror_mode": {
    "name": "ipython",
    "version": 3
   },
   "file_extension": ".py",
   "mimetype": "text/x-python",
   "name": "python",
   "nbconvert_exporter": "python",
   "pygments_lexer": "ipython3",
   "version": "3.8.5"
  }
 },
 "nbformat": 4,
 "nbformat_minor": 4
}
