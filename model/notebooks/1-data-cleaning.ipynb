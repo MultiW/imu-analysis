{
 "cells": [
  {
   "cell_type": "markdown",
   "metadata": {},
   "source": [
    "# Data Cleaning\n",
    "\n",
    "For each IMU file, clean the IMU data, adjust the labels, and output these as CSV files."
   ]
  },
  {
   "cell_type": "code",
   "execution_count": 1,
   "metadata": {},
   "outputs": [],
   "source": [
    "%load_ext autoreload\n",
    "%autoreload 2\n",
    "%matplotlib notebook\n",
    "\n",
    "import pathlib\n",
    "import matplotlib.pyplot as pyplot\n",
    "import pandas as pd\n",
    "\n",
    "import numpy as np\n",
    "from numpy import mean\n",
    "from numpy import std\n",
    "\n",
    "from scipy import signal\n",
    "from scipy.fft import fft, fftfreq, rfft, rfftfreq\n",
    "\n",
    "from sklearn.model_selection import cross_val_score\n",
    "from sklearn.model_selection import RepeatedStratifiedKFold\n",
    "from sklearn.ensemble import GradientBoostingClassifier\n",
    "import joblib\n",
    "\n",
    "from src.data.labels_util import (\n",
    "    get_labels_data, LabelCol, get_workouts_row_bounds, get_workouts_epoch_bounds, get_workouts_sensor\n",
    ")\n",
    "from src.data.imu_util import (\n",
    "    get_sensor_file, ImuCol, load_imu_data, Sensor, fix_epoch, resample_uniformly, time_to_row_range, get_data_chunk,\n",
    "    normalize_with_bounds, data_to_features, list_imu_abspaths, clean_imu_data\n",
    ")\n",
    "from src.data.data_util import find_nearest, find_nearest_index, shift, low_pass_filter, add_col\n",
    "from src.data.enums import Activity\n",
    "from src.data.make_dataset import main as make_dataset\n",
    "from src.visualization.visualize import multiplot\n",
    "from src.config import CLEAN_DIR, CLEAN_SUFFIX\n",
    "\n",
    "# import data types\n",
    "from pandas import DataFrame\n",
    "from numpy import ndarray\n",
    "from typing import List, Tuple, Optional"
   ]
  },
  {
   "cell_type": "markdown",
   "metadata": {},
   "source": [
    "## Clean IMU data"
   ]
  },
  {
   "cell_type": "code",
   "execution_count": 2,
   "metadata": {},
   "outputs": [
    {
     "name": "stdout",
     "output_type": "stream",
     "text": [
      "Cleaning file '10L_2020-08-13T09.44.56.359_D592640E9A77_Accelerometer.csv'...\n",
      "Cleaning file '17R_2020-08-13T10.34.27.662_F7025F7111F1_Accelerometer.csv'...\n",
      "Cleaning file '11L_2020-08-13T09.48.23.503_E8E376103A59_Accelerometer.csv'...\n",
      "Cleaning file '16R_2020-08-13T10.51.24.151_F14724A81B5E_Accelerometer.csv'...\n",
      "Cleaning file '4R_2020-08-13T09.37.23.452_C47D949C3933_Accelerometer.csv'...\n",
      "Cleaning file '12L_2020-08-13T14.54.40.903_FD3613415C08_Accelerometer.csv'...\n",
      "Cleaning file '9L_2020-08-13T09.45.57.395_C9936E243F1B_Accelerometer.csv'...\n",
      "Cleaning file '1R_2020-08-12T10.42.36.957_E6506ED62C8A_Accelerometer.csv'...\n",
      "Cleaning file '9R_2020-08-09T15.16.11.857_DC1A3C126A85_Accelerometer.csv'...\n",
      "Cleaning file '14L_2020-08-13T09.43.57.053_DFA47D398ABD_Accelerometer.csv'...\n",
      "Cleaning file '7R_2020-08-13T09.40.34.504_D04FC054D444_Accelerometer.csv'...\n",
      "Cleaning file '1L_2020-08-12T14.17.19.067_DC5656563C03_Accelerometer.csv'...\n",
      "Cleaning file '15R_2020-08-13T09.48.26.452_E4A89F39693B_Accelerometer.csv'...\n",
      "Cleaning file '19R_2020-08-13T09.37.30.897_D9E8D00D7DF6_Accelerometer.csv'...\n",
      "Cleaning file '2L_2020-08-13T09.34.38.193_CA5C2D81F22F_Accelerometer.csv'...\n",
      "Cleaning file '19L_2020-08-13T09.36.54.420_C30F0B6717CA_Accelerometer.csv'...\n",
      "Cleaning file '14R_2020-08-13T09.44.26.387_D0332E943715_Accelerometer.csv'...\n",
      "Cleaning file '2R_2020-08-13T11.54.12.738_E73E02B45E18_Accelerometer.csv'...\n",
      "Cleaning file '12R_2020-08-13T10.33.29.103_EBDEEFA65AEE_Accelerometer.csv'...\n",
      "Cleaning file '17L_2020-08-09T13.29.45.026_CE8F983CFC14_Accelerometer.csv'...\n",
      "Cleaning file '6R_2020-08-13T10.25.27.724_E9BDB8A7F58B_Accelerometer.csv'...\n",
      "Cleaning file '3L_2020-08-13T09.35.42.310_FDEBA61043AE_Accelerometer.csv'...\n",
      "Cleaning file '18R_2020-08-13T09.48.31.039_EFC2B3F6D5D2_Accelerometer.csv'...\n",
      "Cleaning file '16L_2020-08-13T09.36.09.647_EDC6D9170440_Accelerometer.csv'...\n",
      "Cleaning file '3R_2020-08-13T09.36.11.755_C3E6313FB63B_Accelerometer.csv'...\n",
      "Cleaning file '15L_2020-08-13T09.48.03.931_E4A314D2F6EA_Accelerometer.csv'...\n",
      "Cleaning file '18L_2020-08-13T09.47.22.814_DC21D79CCF3F_Accelerometer.csv'...\n",
      "Cleaning file '6L_2020-08-13T09.38.11.874_DBCA6A517EF9_Accelerometer.csv'...\n",
      "Cleaning file '8R_2020-08-13T09.45.08.205_E1051277C793_Accelerometer.csv'...\n",
      "Cleaning file '7L_2020-08-13T09.41.02.497_EF6A3F7ADFF6_Accelerometer.csv'...\n",
      "Cleaning file '8L_2020-08-13T09.38.55.135_E23EF4C927E9_Accelerometer.csv'...\n",
      "Cleaning file '4L_2020-08-13T09.36.47.219_EDD1908A574D_Accelerometer.csv'...\n",
      "Done\n"
     ]
    }
   ],
   "source": [
    "make_dataset()"
   ]
  },
  {
   "cell_type": "markdown",
   "metadata": {},
   "source": []
  },
  {
   "cell_type": "code",
   "execution_count": null,
   "metadata": {},
   "outputs": [],
   "source": []
  }
 ],
 "metadata": {
  "kernelspec": {
   "display_name": "Python [conda env:model-env] *",
   "language": "python",
   "name": "conda-env-model-env-py"
  },
  "language_info": {
   "codemirror_mode": {
    "name": "ipython",
    "version": 3
   },
   "file_extension": ".py",
   "mimetype": "text/x-python",
   "name": "python",
   "nbconvert_exporter": "python",
   "pygments_lexer": "ipython3",
   "version": "3.8.5"
  }
 },
 "nbformat": 4,
 "nbformat_minor": 4
}
