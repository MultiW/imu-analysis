{
 "cells": [
  {
   "cell_type": "markdown",
   "metadata": {},
   "source": [
    "# Model Fitting\n",
    "Fit the model using the training dataset."
   ]
  },
  {
   "cell_type": "code",
   "execution_count": 1,
   "metadata": {},
   "outputs": [],
   "source": [
    "%load_ext autoreload\n",
    "%autoreload 2\n",
    "%matplotlib notebook\n",
    "\n",
    "import numpy as np\n",
    "from numpy import mean\n",
    "from numpy import std\n",
    "\n",
    "from sklearn.model_selection import cross_val_score\n",
    "from sklearn.model_selection import RepeatedStratifiedKFold\n",
    "from sklearn.ensemble import GradientBoostingClassifier\n",
    "from matplotlib.lines import Line2D\n",
    "import joblib\n",
    "\n",
    "from src.data.labels_util import load_labels, LabelCol, get_labels_file, load_clean_labels, get_workouts\n",
    "from src.data.imu_util import (\n",
    "    get_sensor_file, ImuCol, load_imu_data, Sensor, fix_epoch, resample_uniformly, time_to_row_range, get_data_chunk,\n",
    "    normalize_with_bounds, data_to_features, list_imu_abspaths, clean_imu_data\n",
    ")\n",
    "from src.data.util import find_nearest, find_nearest_index, shift, low_pass_filter, add_col\n",
    "from src.data.workout import Activity, Workout\n",
    "from src.data.data import DataState\n",
    "from src.data.build_features import main as build_features\n",
    "from src.data.features_util import list_test_files\n",
    "from src.model.train import evaluate_model_accuracy, train_model\n",
    "from src.visualization.visualize import multiplot\n",
    "from src.config import (\n",
    "    TRAIN_BOOT_DIR, TRAIN_POLE_DIR, TRAIN_FEATURES_FILENAME, TRAIN_LABELS_FILENAME, BOOT_MODEL_FILE, \n",
    "    POLE_MODEL_FILE\n",
    ")\n",
    "\n",
    "# import data types\n",
    "from pandas import DataFrame\n",
    "from numpy import ndarray\n",
    "from typing import List, Tuple, Optional"
   ]
  },
  {
   "cell_type": "markdown",
   "metadata": {},
   "source": [
    "## Evaluate quality of model and training data\n",
    "[Helpful source](https://machinelearningmastery.com/gradient-boosting-machine-ensemble-in-python/)"
   ]
  },
  {
   "cell_type": "code",
   "execution_count": 2,
   "metadata": {},
   "outputs": [],
   "source": [
    "# UNCOMMENT to use. It's very slow.\n",
    "\n",
    "# print('Evaluate boot model:')\n",
    "# features: ndarray = np.load(TRAIN_BOOT_DIR / TRAIN_FEATURES_FILENAME)\n",
    "# labels: ndarray = np.load(TRAIN_BOOT_DIR / TRAIN_LABELS_FILENAME)\n",
    "    \n",
    "# evaluate_model_accuracy(features, labels)\n",
    "\n",
    "# print('Evaluate pole model:')\n",
    "# features: ndarray = np.load(TRAIN_POLE_DIR / TRAIN_FEATURES_FILENAME)\n",
    "# labels: ndarray = np.load(TRAIN_POLE_DIR / TRAIN_LABELS_FILENAME)\n",
    "    \n",
    "# evaluate_model_accuracy(features, labels)"
   ]
  },
  {
   "cell_type": "markdown",
   "metadata": {},
   "source": [
    "## Train model on training data\n",
    "Copy the models to the ```models``` directory and change the paths in ```config.py``` to \"publish\" the models."
   ]
  },
  {
   "cell_type": "code",
   "execution_count": 3,
   "metadata": {},
   "outputs": [
    {
     "name": "stdout",
     "output_type": "stream",
     "text": [
      "Train boot model:\n",
      "Fitting model...\n",
      "      Iter       Train Loss   Remaining Time \n",
      "         1           1.3349           20.80m\n",
      "         2           1.3026           20.25m\n",
      "         3           1.2791           20.66m\n",
      "         4           1.2538           20.62m\n",
      "         5           1.2324           20.34m\n",
      "         6           1.2150           20.17m\n",
      "         7           1.2009           19.62m\n",
      "         8           1.1869           19.13m\n",
      "         9           1.1749           18.73m\n",
      "        10           1.1619           18.37m\n",
      "        20           1.0735           15.82m\n",
      "        30           1.0147           13.84m\n",
      "        40           0.9749           11.67m\n",
      "        50           0.9327            9.60m\n",
      "        60           0.8987            7.62m\n",
      "        70           0.8722            5.65m\n",
      "        80           0.8483            3.83m\n",
      "        90           0.8283            1.93m\n",
      "       100           0.8131            0.00s\n",
      "Done\n",
      "Train pole model:\n",
      "Fitting model...\n",
      "      Iter       Train Loss   Remaining Time \n",
      "         1           1.2069           36.21m\n",
      "         2           1.1043           44.15m\n",
      "         3           1.0209           40.13m\n",
      "         4           0.9484           37.53m\n",
      "         5           0.8862           35.25m\n",
      "         6           0.8331           34.29m\n",
      "         7           0.7866           33.37m\n",
      "         8           0.7424           33.10m\n",
      "         9           0.7085           31.97m\n",
      "        10           0.6743           30.88m\n",
      "        20           0.4657           25.70m\n",
      "        30           0.3714           20.59m\n",
      "        40           0.3216           17.01m\n",
      "        50           0.2902           13.56m\n",
      "        60           0.2681           10.51m\n",
      "        70           0.2551            7.71m\n",
      "        80           0.2429            5.04m\n",
      "        90           0.2350            2.49m\n",
      "       100           0.2285            0.00s\n",
      "Done\n"
     ]
    },
    {
     "data": {
      "text/plain": [
       "['gbm-pole-model.pkl']"
      ]
     },
     "execution_count": 3,
     "metadata": {},
     "output_type": "execute_result"
    }
   ],
   "source": [
    "# UNCOMMENT to use. It's very slow.\n",
    "\n",
    "print('Train boot model:')\n",
    "features: ndarray = np.load(TRAIN_BOOT_DIR / TRAIN_FEATURES_FILENAME)\n",
    "labels: ndarray = np.load(TRAIN_BOOT_DIR / TRAIN_LABELS_FILENAME)\n",
    "    \n",
    "model = train_model(features, labels)\n",
    "joblib.dump(model, 'gbm-boot-model.pkl')\n",
    "\n",
    "print('Train pole model:')\n",
    "features: ndarray = np.load(TRAIN_POLE_DIR / TRAIN_FEATURES_FILENAME)\n",
    "labels: ndarray = np.load(TRAIN_POLE_DIR / TRAIN_LABELS_FILENAME)\n",
    "    \n",
    "model = train_model(features, labels)\n",
    "joblib.dump(model, 'gbm-pole-model.pkl')"
   ]
  },
  {
   "cell_type": "markdown",
   "metadata": {},
   "source": [
    "## Test models"
   ]
  },
  {
   "cell_type": "code",
   "execution_count": null,
   "metadata": {},
   "outputs": [],
   "source": []
  }
 ],
 "metadata": {
  "kernelspec": {
   "display_name": "Python (model-env)",
   "language": "python",
   "name": "model-env"
  },
  "language_info": {
   "codemirror_mode": {
    "name": "ipython",
    "version": 3
   },
   "file_extension": ".py",
   "mimetype": "text/x-python",
   "name": "python",
   "nbconvert_exporter": "python",
   "pygments_lexer": "ipython3",
   "version": "3.8.5"
  }
 },
 "nbformat": 4,
 "nbformat_minor": 4
}
