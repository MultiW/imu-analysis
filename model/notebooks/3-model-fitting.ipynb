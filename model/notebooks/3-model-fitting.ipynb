{
 "cells": [
  {
   "cell_type": "markdown",
   "metadata": {},
   "source": [
    "# Model Fitting\n",
    "Fit the model using the training dataset."
   ]
  },
  {
   "cell_type": "code",
   "execution_count": null,
   "metadata": {},
   "outputs": [],
   "source": [
    "%load_ext autoreload\n",
    "%autoreload 2\n",
    "%matplotlib notebook\n",
    "\n",
    "import numpy as np\n",
    "from numpy import mean\n",
    "from numpy import std\n",
    "\n",
    "from sklearn.model_selection import cross_val_score\n",
    "from sklearn.model_selection import RepeatedStratifiedKFold\n",
    "from sklearn.ensemble import GradientBoostingClassifier\n",
    "from matplotlib.lines import Line2D\n",
    "import joblib\n",
    "\n",
    "from src.data.labels_util import load_labels, LabelCol, get_labels_file, load_clean_labels, get_workouts\n",
    "from src.data.imu_util import (\n",
    "    get_sensor_file, ImuCol, load_imu_data, Sensor, fix_epoch, resample_uniformly, time_to_row_range, get_data_chunk,\n",
    "    normalize_with_bounds, data_to_features, list_imu_abspaths, clean_imu_data\n",
    ")\n",
    "from src.data.util import find_nearest, find_nearest_index, shift, low_pass_filter, add_col\n",
    "from src.data.workout import Activity, Workout\n",
    "from src.data.data import DataState\n",
    "from src.data.build_features import main as build_features\n",
    "from src.data.features_util import list_test_files\n",
    "from src.model.train import evaluate_model_accuracy, train_model\n",
    "from src.visualization.visualize import multiplot\n",
    "from src.config import (\n",
    "    TRAIN_BOOT_DIR, TRAIN_POLE_DIR, TRAIN_FEATURES_FILENAME, TRAIN_LABELS_FILENAME, BOOT_MODEL_FILE, \n",
    "    POLE_MODEL_FILE\n",
    ")\n",
    "\n",
    "# import data types\n",
    "from pandas import DataFrame\n",
    "from numpy import ndarray\n",
    "from typing import List, Tuple, Optional"
   ]
  },
  {
   "cell_type": "markdown",
   "metadata": {},
   "source": [
    "## Evaluate quality of model and training data\n",
    "[Helpful source](https://machinelearningmastery.com/gradient-boosting-machine-ensemble-in-python/)"
   ]
  },
  {
   "cell_type": "code",
   "execution_count": null,
   "metadata": {},
   "outputs": [],
   "source": [
    "# UNCOMMENT to use. It's very slow.\n",
    "\n",
    "# print('Evaluate boot model:')\n",
    "# features: ndarray = np.load(TRAIN_BOOT_DIR / TRAIN_FEATURES_FILENAME)\n",
    "# labels: ndarray = np.load(TRAIN_BOOT_DIR / TRAIN_LABELS_FILENAME)\n",
    "    \n",
    "# evaluate_model_accuracy(features, labels)\n",
    "\n",
    "# print('Evaluate pole model:')\n",
    "# features: ndarray = np.load(TRAIN_POLE_DIR / TRAIN_FEATURES_FILENAME)\n",
    "# labels: ndarray = np.load(TRAIN_POLE_DIR / TRAIN_LABELS_FILENAME)\n",
    "    \n",
    "# evaluate_model_accuracy(features, labels)"
   ]
  },
  {
   "cell_type": "markdown",
   "metadata": {},
   "source": [
    "## Train model on training data\n",
    "Copy the models to the ```models``` directory and change the paths in ```config.py``` to \"publish\" the models."
   ]
  },
  {
   "cell_type": "code",
   "execution_count": null,
   "metadata": {},
   "outputs": [],
   "source": [
    "# UNCOMMENT to use. It's very slow.\n",
    "\n",
    "print('Train boot model:')\n",
    "features: ndarray = np.load(TRAIN_BOOT_DIR / TRAIN_FEATURES_FILENAME)\n",
    "labels: ndarray = np.load(TRAIN_BOOT_DIR / TRAIN_LABELS_FILENAME)\n",
    "    \n",
    "model = train_model(features, labels)\n",
    "joblib.dump(model, 'gbm-boot-model.pkl')\n",
    "\n",
    "print('Train pole model:')\n",
    "features: ndarray = np.load(TRAIN_POLE_DIR / TRAIN_FEATURES_FILENAME)\n",
    "labels: ndarray = np.load(TRAIN_POLE_DIR / TRAIN_LABELS_FILENAME)\n",
    "    \n",
    "model = train_model(features, labels)\n",
    "joblib.dump(model, 'gbm-pole-model.pkl')"
   ]
  },
  {
   "cell_type": "markdown",
   "metadata": {},
   "source": [
    "## Test models"
   ]
  },
  {
   "cell_type": "code",
   "execution_count": null,
   "metadata": {},
   "outputs": [],
   "source": []
  }
 ],
 "metadata": {
  "kernelspec": {
   "display_name": "Python (model-env)",
   "language": "python",
   "name": "model-env"
  },
  "language_info": {
   "codemirror_mode": {
    "name": "ipython",
    "version": 3
   },
   "file_extension": ".py",
   "mimetype": "text/x-python",
   "name": "python",
   "nbconvert_exporter": "python",
   "pygments_lexer": "ipython3",
   "version": "3.8.5"
  }
 },
 "nbformat": 4,
 "nbformat_minor": 4
}
